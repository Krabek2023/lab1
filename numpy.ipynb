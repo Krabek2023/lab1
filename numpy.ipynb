{
  "cells": [
    {
      "cell_type": "markdown",
      "metadata": {
        "id": "vC84e9kzyxPy"
      },
      "source": [
        "<h1>Импорт библиотек"
      ]
    },
    {
      "cell_type": "code",
      "execution_count": 3,
      "metadata": {
        "id": "cgKeNegmQG5S"
      },
      "outputs": [],
      "source": [
        "import numpy as np\n",
        "import matplotlib.pyplot as plt"
      ]
    },
    {
      "cell_type": "markdown",
      "metadata": {
        "id": "qFM9uVU2x4Ls"
      },
      "source": [
        "<h1>Задача 1. Дан набор из $p$ матриц размерностью $(n, n)$ и $p$ векторов размерностью $(n, 1)$, найти сумму произведений матриц на векторы. Написать тесты для кода"
      ]
    },
    {
      "cell_type": "code",
      "execution_count": 5,
      "metadata": {
        "id": "IAbUvEiYyWFF"
      },
      "outputs": [],
      "source": [
        "import numpy as np\n",
        "import matplotlib.pyplot as plt\n",
        "\n",
        "def sum_prod(X, V):\n",
        "    if not X:\n",
        "        return np.zeros((0, 1))\n",
        "    result = np.zeros_like(X[0] @ V[0])\n",
        "    for x, v in zip(X, V):\n",
        "        result += x @ v\n",
        "    return result \n",
        "\n",
        "def test_sum_prod():\n",
        "    X = [\n",
        "        np.array([[1, 2], [3, 4]]),\n",
        "        np.array([[5, 6], [7, 8]])\n",
        "    ]\n",
        "    V = [\n",
        "        np.array([1, 1]).reshape(-1, 1),  # Вектор-столбец (2, 1)\n",
        "        np.array([2, 2]).reshape(-1, 1)\n",
        "    ]\n",
        "    expected = np.array([[25], [37]])  # Корректный результат\n",
        "    result = sum_prod(X, V)\n",
        "    assert np.allclose(result, expected), f\"Ожидалось {expected}, получено {result}\"\n",
        "\n",
        "test_sum_prod()\n"
      ]
    },
    {
      "cell_type": "markdown",
      "metadata": {
        "id": "TKwPG4fIy2w4"
      },
      "source": [
        "<h1>Задача 2. Дана матрица M, напишите функцию, которая бинаризует матрицу по некоторому threshold (то есть, все значения большие threshold становятся равными 1, иначе 0). Напишите тесты для кода"
      ]
    },
    {
      "cell_type": "code",
      "execution_count": 6,
      "metadata": {
        "id": "KQDNMgsjRNH7"
      },
      "outputs": [
        {
          "ename": "AssertionError",
          "evalue": "",
          "output_type": "error",
          "traceback": [
            "\u001b[1;31m---------------------------------------------------------------------------\u001b[0m",
            "\u001b[1;31mAssertionError\u001b[0m                            Traceback (most recent call last)",
            "Cell \u001b[1;32mIn[6], line 18\u001b[0m\n\u001b[0;32m     16\u001b[0m     expected \u001b[38;5;241m=\u001b[39m np\u001b[38;5;241m.\u001b[39marray([[\u001b[38;5;241m0\u001b[39m, \u001b[38;5;241m1\u001b[39m], [\u001b[38;5;241m0\u001b[39m, \u001b[38;5;241m1\u001b[39m]])\n\u001b[0;32m     17\u001b[0m     \u001b[38;5;28;01massert\u001b[39;00m np\u001b[38;5;241m.\u001b[39marray_equal(binarize(M, \u001b[38;5;241m0.5\u001b[39m), expected)\n\u001b[1;32m---> 18\u001b[0m test_binarize()\n",
            "Cell \u001b[1;32mIn[6], line 17\u001b[0m, in \u001b[0;36mtest_binarize\u001b[1;34m()\u001b[0m\n\u001b[0;32m     15\u001b[0m M \u001b[38;5;241m=\u001b[39m np\u001b[38;5;241m.\u001b[39marray([[\u001b[38;5;241m0.3\u001b[39m, \u001b[38;5;241m0.6\u001b[39m], [\u001b[38;5;241m0.4\u001b[39m, \u001b[38;5;241m0.8\u001b[39m]])\n\u001b[0;32m     16\u001b[0m expected \u001b[38;5;241m=\u001b[39m np\u001b[38;5;241m.\u001b[39marray([[\u001b[38;5;241m0\u001b[39m, \u001b[38;5;241m1\u001b[39m], [\u001b[38;5;241m0\u001b[39m, \u001b[38;5;241m1\u001b[39m]])\n\u001b[1;32m---> 17\u001b[0m \u001b[38;5;28;01massert\u001b[39;00m np\u001b[38;5;241m.\u001b[39marray_equal(binarize(M, \u001b[38;5;241m0.5\u001b[39m), expected)\n",
            "\u001b[1;31mAssertionError\u001b[0m: "
          ]
        }
      ],
      "source": [
        "import numpy as np\n",
        "import matplotlib.pyplot as plt\n",
        "\n",
        "def binarize(M, threshold=0.5):\n",
        "    n_rows = len(M)\n",
        "    n_cols = len(M[0]) if n_rows > 0 else 0\n",
        "    result = [[0 for _ in range(n_cols)] for _ in range(n_rows)]\n",
        "    for i in range(n_rows):\n",
        "        for j in range(n_cols):\n",
        "            if M[i][j] > threshold:\n",
        "                result[i][j] = 1\n",
        "            return result\n",
        "\n",
        "def test_binarize():\n",
        "    M = np.array([[0.3, 0.6], [0.4, 0.8]])\n",
        "    expected = np.array([[0, 1], [0, 1]])\n",
        "    assert np.array_equal(binarize(M, 0.5), expected)\n",
        "test_binarize()\n"
      ]
    },
    {
      "cell_type": "markdown",
      "metadata": {
        "id": "IY5L-h-7zWhN"
      },
      "source": [
        "<h1>Задача 3. Напишите функцию, которая возвращает уникальные элементы из каждой строки матрицы. Напишите такую же функцию, но для столбцов. Напишите тесты для кода"
      ]
    },
    {
      "cell_type": "code",
      "execution_count": 11,
      "metadata": {
        "id": "-8dEZhR0SBC-"
      },
      "outputs": [],
      "source": [
        "def unique_rows(mat):\n",
        "    return [np.unique(row) for row in mat]\n",
        "\n",
        "def unique_columns(mat):\n",
        "    if not mat:\n",
        "        return []\n",
        "    # Транспонируем матрицу, чтобы столбцы стали строками\n",
        "    transposed = list(zip(*mat))\n",
        "    return [list(set(col)) for col in transposed]\n",
        "\n",
        "# Тесты\n",
        "def test_unique_functions():\n",
        "    mat = [\n",
        "    [1, 2, 2],\n",
        "    [3, 3, 3],\n",
        "    [4, 5, 5]\n",
        "    ]\n",
        "# Проверка unique_rows\n",
        "    assert unique_rows(mat) == [[1, 2], [3], [4, 5]]\n",
        "# Проверка unique_columns\n",
        "    assert unique_columns(mat) == [[1, 3, 4], [2, 3, 5], [2, 3, 5]]\n",
        "\n",
        "# Пустая матрица\n",
        "    assert unique_rows([]) == []\n",
        "    assert unique_columns([]) == []\n",
        "\n",
        "# Матрица с одним элементом\n",
        "    assert unique_rows([[7]]) == [[7]]\n",
        "    assert unique_columns([[7]]) == [[7]]\n",
        "\n",
        "\n"
      ]
    },
    {
      "cell_type": "markdown",
      "metadata": {
        "id": "roYAlo4Jz-lH"
      },
      "source": [
        "<h1>Задача 4. Напишите функцию, которая заполняет матрицу с размерами $(m, n)$ случайными числами, распределенными по нормальному закону. Затем считает мат. ожидание и дисперсию для каждого из столбцов и строк, а также строит для каждой строки и столбца гистограмму значений (использовать функцию hist из модуля matplotlib.plot)"
      ]
    },
    {
      "cell_type": "code",
      "execution_count": 12,
      "metadata": {
        "id": "nZK_71hMSQzv"
      },
      "outputs": [],
      "source": [
        "def generate_and_analyze(m, n):\n",
        "    mat = np.random.normal(size=(m, n))\n",
        "    # Статистика\n",
        "    row_means, row_vars = np.mean(mat, axis=1), np.var(mat, axis=1)\n",
        "    col_means, col_vars = np.mean(mat, axis=0), np.var(mat, axis=0)\n",
        "    # Гистограммы\n",
        "    for i in range(m):\n",
        "        plt.hist(mat[i], alpha=0.5, label=f'Row {i}')\n",
        "    plt.legend()\n",
        "    plt.show()\n",
        "    for j in range(n):\n",
        "        plt.hist(mat[:, j], alpha=0.5, label=f'Column {j}')\n",
        "    plt.legend()\n",
        "    plt.show()\n",
        "    return row_means, row_vars, col_means, col_vars\n"
      ]
    },
    {
      "cell_type": "markdown",
      "metadata": {
        "id": "BDyATNdM0dJ2"
      },
      "source": [
        "<h1>Задача 5. Напишите функцию, которая заполняет матрицу $(m, n)$ в шахматном порядке заданными числами $a$ и $b$. Напишите тесты для кода"
      ]
    },
    {
      "cell_type": "code",
      "execution_count": 16,
      "metadata": {
        "id": "RWNJYWQGecS6"
      },
      "outputs": [],
      "source": [
        "import numpy as np\n",
        "\n",
        "def create_chessboard_matrix_numpy(rows, cols, a=0, b=1):\n",
        "\n",
        "    chessboard = np.zeros((rows, cols), dtype=int)\n",
        "    chessboard[1::2, ::2] = b\n",
        "    chessboard[::2, 1::2] = b\n",
        "    chessboard[chessboard == 0] = a\n",
        "    return chessboard.tolist()\n",
        "\n",
        "# Тесты\n",
        "def test_chess():\n",
        "    # Тест 1: Проверка размеров матрицы\n",
        "    matrix = create_chessboard_matrix_numpy(3, 3)\n",
        "    assert len(matrix) == 3 and all(len(row) == 3 for row in matrix)\n",
        "\n",
        "# Тест 2: Проверка шахматного порядка (0 и 1)\n",
        "    expected_3x3 = [\n",
        "    [0, 1, 0],\n",
        "    [1, 0, 1],\n",
        "    [0, 1, 0]\n",
        "    ]\n",
        "    assert create_chessboard_matrix_numpy(3, 3) == expected_3x3\n",
        "\n",
        "# Тест 3: Проверка пользовательских чисел (a=5, b=10)\n",
        "    expected_custom = [\n",
        "    [5, 10],\n",
        "    [10, 5]\n",
        "    ]\n",
        "    assert create_chessboard_matrix_numpy(2, 2, 5, 10) == expected_custom\n",
        "\n",
        "# Тест 4: Проверка для нечётных и чётных размеров\n",
        "    assert create_chessboard_matrix_numpy(2, 3) == [[0, 1, 0], [1, 0, 1]] \n",
        "test_chess()\n"
      ]
    },
    {
      "cell_type": "markdown",
      "metadata": {
        "id": "-ymXLtTN0vB6"
      },
      "source": [
        "<h1>Задача 6. Напишите функцию, которая отрисовывает прямоугольник с заданными размерами (a, b) на изображении размера (m, n), цвет фона задайте в схеме RGB, как и цвет прямоугольника. Цвета также должны быть параметрами функции. Напишите аналогичную функцию но для овала с полуосями a и b. Напишите тесты для кода.\n",
        "Примечание: уравнение эллипса (границы овала) можно записать как:\n",
        "<h1>$\\frac{(x-x_0)^2}{a^2}+\\frac{(y-y_0)^2}{b^2}=1$"
      ]
    },
    {
      "cell_type": "code",
      "execution_count": 18,
      "metadata": {
        "id": "sNfl1t_kfOF4"
      },
      "outputs": [
        {
          "name": "stdout",
          "output_type": "stream",
          "text": [
            "Тесты пройдены успешно!\n"
          ]
        }
      ],
      "source": [
        "import numpy as np\n",
        "\n",
        "def draw_rectangle(a, b, m, n, rectangle_color, background_color):\n",
        "\n",
        "    image = np.full((m, n, 3), background_color, dtype=np.uint8)\n",
        "    start_row = (m - a) // 2\n",
        "    start_col = (n - b) // 2\n",
        "    image[start_row:start_row+a, start_col:start_col+b] = rectangle_color\n",
        "    return image\n",
        "\n",
        "def draw_ellipse(a, b, m, n, ellipse_color, background_color):\n",
        "\n",
        "    image = np.full((m, n, 3), background_color, dtype=np.uint8)\n",
        "    rows, cols = np.indices((m, n))\n",
        "    center_y, center_x = m // 2, n // 2\n",
        "    # Уравнение эллипса: ((x - center_x)/b)^2 + ((y - center_y)/a)^2 <= 1\n",
        "    mask = ((cols - center_x)**2 / b**2 + (rows - center_y)**2 / a**2) <= 1\n",
        "    image[mask] = ellipse_color\n",
        "    return image\n",
        "\n",
        "# Тесты\n",
        "def test_draw_shapes():\n",
        "    # Проверка прямоугольника\n",
        "    rect = draw_rectangle(a=2, b=3, m=5, n=5, \n",
        "                          rectangle_color=[255, 0, 0], \n",
        "                          background_color=[0, 0, 0])\n",
        "    assert rect.shape == (5, 5, 3), \"Неверный размер изображения с прямоугольником\"\n",
        "    assert np.array_equal(rect[2, 2], [255, 0, 0]), \"Цвет прямоугольника неверен\"\n",
        "    \n",
        "    # Проверка эллипса\n",
        "    ellipse = draw_ellipse(a=2, b=3, m=7, n=7, \n",
        "                           ellipse_color=[0, 255, 0], \n",
        "                           background_color=[0, 0, 0])\n",
        "    assert ellipse.shape == (7, 7, 3), \"Неверный размер изображения с эллипсом\"\n",
        "    assert np.array_equal(ellipse[3, 3], [0, 255, 0]), \"Цвет эллипса неверен\"\n",
        "    \n",
        "    print(\"Тесты пройдены успешно!\")\n",
        "\n",
        "test_draw_shapes()\n"
      ]
    },
    {
      "cell_type": "markdown",
      "metadata": {
        "id": "S82c38oz244H"
      },
      "source": [
        "<h1>Задача 7. Дан некий временной ряд. Для данного ряда нужно найти его: математическое ожидание, дисперсию, СКО, найти все локальные максимумы и минимумы (локальный максимум - это точка, которая больше своих соседних точек, а локальный минимум - это точка, которая меньше своих соседей), а также вычислить для данного ряда другой ряд, получаемый методом скользящего среднего с размером окна $p$.\n",
        "<h1>Примечание: метод скользящего среднего подразумевает нахождение среднего из подмножетсва ряда размером $p$"
      ]
    },
    {
      "cell_type": "code",
      "execution_count": 23,
      "metadata": {
        "id": "Zb9mIVge5MMt"
      },
      "outputs": [],
      "source": [
        "import numpy as np\n",
        "\n",
        "def calculate_statistics(time_series):\n",
        "\n",
        "    mean = np.mean(time_series)\n",
        "    variance = np.var(time_series)\n",
        "    std_dev = np.std(time_series)\n",
        "\n",
        "    return {\n",
        "    'mean': mean,\n",
        "    'variance': variance,\n",
        "    'std_dev': std_dev\n",
        "    }\n",
        "\n",
        "def find_local_extrema(time_series):\n",
        "\n",
        "    maxima = []\n",
        "    minima = []\n",
        "\n",
        "    for i in range(1, len(time_series) - 1):\n",
        "        if time_series[i] > time_series[i-1] and time_series[i] > time_series[i+1]:\n",
        "            maxima.append((i, time_series[i]))\n",
        "        elif time_series[i] < time_series[i-1] and time_series[i] < time_series[i+1]:\n",
        "            minima.append((i, time_series[i]))\n",
        "\n",
        "    return {\n",
        "    'maxima': maxima,\n",
        "    'minima': minima\n",
        "    }\n"
      ]
    },
    {
      "cell_type": "markdown",
      "metadata": {
        "id": "jPkylmOX5O9n"
      },
      "source": [
        "<h1> Задача 8. Дан некоторый вектор с целочисленными метками классов, напишите функцию, которая выполняет one-hot-encoding для данного вектора\n",
        "<h1> One-hot-encoding - представление, в котором на месте метки некоторого класса стоит 1, в остальных позициях стоит 0. Например для вектора [0, 2, 3, 0] one-hot-encoding выглядит как: [[1, 0, 0, 0], [0, 0, 1, 0], [0, 0, 0, 1], [1, 0, 0, 0]]"
      ]
    },
    {
      "cell_type": "code",
      "execution_count": 26,
      "metadata": {
        "id": "Y-jlnZvw56lD"
      },
      "outputs": [],
      "source": [
        "def one_hot_encoding(labels):\n",
        "    num_classes = np.max(labels) + 1\n",
        "    return np.eye(num_classes)[labels]\n",
        "\n",
        "# Тесты\n",
        "def test_one_hot():\n",
        "    labels = np.array([0, 2, 3, 0])\n",
        "    expected = np.array([[1,0,0,0], [0,0,1,0], [0,0,0,1], [1,0,0,0]])\n",
        "    assert np.array_equal(one_hot_encoding(labels), expected)\n",
        "test_one_hot()\n"
      ]
    }
  ],
  "metadata": {
    "colab": {
      "provenance": []
    },
    "kernelspec": {
      "display_name": "base",
      "language": "python",
      "name": "python3"
    },
    "language_info": {
      "codemirror_mode": {
        "name": "ipython",
        "version": 3
      },
      "file_extension": ".py",
      "mimetype": "text/x-python",
      "name": "python",
      "nbconvert_exporter": "python",
      "pygments_lexer": "ipython3",
      "version": "3.12.7"
    }
  },
  "nbformat": 4,
  "nbformat_minor": 0
}
