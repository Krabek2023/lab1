{
  "cells": [
    {
      "cell_type": "markdown",
      "metadata": {
        "id": "M-DGa20PaHnu"
      },
      "source": [
        "#Задача 1\n",
        "Написать функцию на вход которой подается строка, состоящая из латинских букв.\n",
        "Функция должна вернуть количество гласных букв (a, e, i, o, u) в этой строке. Написать тесты для кода"
      ]
    },
    {
      "cell_type": "code",
      "execution_count": 24,
      "metadata": {
        "id": "XvX8X_JJ6PCb"
      },
      "outputs": [],
      "source": [
        "def countVowels(string):\n",
        "    vowels = {'a', 'e', 'i', 'o', 'u'}\n",
        "    return sum(1 for char in string.lower() if char in vowels)\n",
        "\n",
        "# Тесты\n",
        "assert countVowels(\"\") == 0\n",
        "assert countVowels(\"hello\") == 2\n",
        "assert countVowels(\"hi\") == 1\n",
        "assert countVowels(\"bcdfg\") == 0"
      ]
    },
    {
      "cell_type": "markdown",
      "metadata": {
        "id": "t2ClV_Y0bbr6"
      },
      "source": [
        "# Задача 2\n",
        "Написать функцию на вход, которой подается строка. Функция должна вернуть true, если\n",
        "каждый символ в строке встречается только 1 раз, иначе должна вернуть false. Написать тесты для кода"
      ]
    },
    {
      "cell_type": "code",
      "execution_count": 23,
      "metadata": {
        "id": "FppbECao6VIz"
      },
      "outputs": [],
      "source": [
        "def allUnique(s):\n",
        "    return len(s) == len(set(s)) # Учитывается регистр\n",
        "\n",
        "# Тесты\n",
        "assert allUnique(\"abc\") == True\n",
        "assert allUnique(\"aabc\") == False\n",
        "assert allUnique(\"AaBbCc\") == True\n",
        "assert allUnique(\"\") == True"
      ]
    },
    {
      "cell_type": "markdown",
      "metadata": {
        "id": "udRiIK1cdt6E"
      },
      "source": [
        "# Задача 3\n",
        "Написать функцию, которая принимает положительное число и возвращает количество\n",
        "бит равных 1 в этом числе. Написать тесты для кода"
      ]
    },
    {
      "cell_type": "code",
      "execution_count": 19,
      "metadata": {
        "id": "6tkfDJRz6dp_"
      },
      "outputs": [],
      "source": [
        "def countBits(n):\n",
        "    return bin(n).count('1')\n",
        "\n",
        "# Тесты\n",
        "assert countBits(11) == 3\n",
        "assert countBits(2) == 1\n",
        "assert countBits(0) == 0"
      ]
    },
    {
      "cell_type": "markdown",
      "metadata": {
        "id": "26dDUz-Ae17N"
      },
      "source": [
        "# Задача 4\n",
        "Написать функцию, которая принимает положительное число. Функция должна вернуть то,\n",
        "сколько раз необходимо перемножать цифры числа или результат перемножения, чтобы\n",
        "получилось число состоящее из одной цифры.\n",
        "Например, для входного числа:\n",
        "· 39 функция должна вернуть 3, так как 3*9=27 => 2*7=14 => 1*4=4\n",
        "· 4 функция должна вернуть 0, так как число уже состоит из одной цифры\n",
        "· 999 функция должна вернуть 4, так как 9*9*9=729 => 7*2*9=126 => 1*2*6=12 =>\n",
        "1*2=2. Написать тесты для кода"
      ]
    },
    {
      "cell_type": "code",
      "execution_count": null,
      "metadata": {
        "id": "BH1A_Mgi6i4G"
      },
      "outputs": [],
      "source": [
        "def magic(n):\n",
        "    steps = 0\n",
        "    while n >= 10:\n",
        "        product = 1\n",
        "        for digit in str(n):\n",
        "            product *= int(digit)\n",
        "            n = product\n",
        "        steps += 1\n",
        "    return steps\n",
        "\n",
        "# Тесты\n",
        "assert magic(123450) == 1\n",
        "assert magic(99) == 2\n",
        "assert magic(39) == 3\n",
        "assert magic(7) == 0"
      ]
    },
    {
      "cell_type": "markdown",
      "metadata": {
        "id": "0nS-kIa8g8vd"
      },
      "source": [
        "# Задача 5\n",
        "Написать функцию, которая принимает два целочисленных вектора одинаковой длины и\n",
        "возвращает среднеквадратическое отклонение двух векторов. Написать тесты для кода"
      ]
    },
    {
      "cell_type": "code",
      "execution_count": 25,
      "metadata": {
        "id": "8iphx4LM6xbx"
      },
      "outputs": [],
      "source": [
        "def mse(V1, V2):\n",
        "    return sum((p - t)**2 for p, t in zip(V1, V2)) / len(V1)\n",
        "\n",
        "# Тесты\n",
        "assert mse([2, 2], [2, 2]) == 0\n",
        "assert mse([3, 2, 1], [5, 6, 2]) == 7.0"
      ]
    },
    {
      "cell_type": "markdown",
      "metadata": {
        "id": "vpIPKL439zkw"
      },
      "source": [
        "# Задача 6\n",
        "Написать функцию, принимающая целое положительное число. Функция должна вернуть\n",
        "строку вида “(n1**p1)(n2**p2)…(nk**pk)” представляющая разложение числа на простые\n",
        "множители (если pi == 1, то выводить только ni).\n",
        "Например, для числа 86240 функция должна вернуть “(2**5)(5)(7**2)(11)”. Написать тесты для кода"
      ]
    },
    {
      "cell_type": "code",
      "execution_count": 26,
      "metadata": {
        "id": "pFebmcZk94Jw"
      },
      "outputs": [],
      "source": [
        "def npString(n):\n",
        "    factors = []\n",
        "    divisor = 2\n",
        "    while divisor * divisor <= n:\n",
        "        count = 0\n",
        "        while n % divisor == 0:\n",
        "            count += 1\n",
        "            n //= divisor\n",
        "        if count > 0:\n",
        "            factors.append((divisor, count))\n",
        "        divisor += 1\n",
        "    if n > 1:\n",
        "        factors.append((n, 1))\n",
        "    \n",
        "    result = []\n",
        "    for n, p in factors:\n",
        "        if p == 1:\n",
        "            result.append(f\"({n})\")\n",
        "        else:\n",
        "            result.append(f\"({n}**{p})\")\n",
        "    return \"\".join(result)\n",
        "\n",
        "# Тесты\n",
        "assert npString(86240) == \"(2**5)(5)(7**2)(11)\"\n",
        "assert npString(1024) == \"(2**10)\"\n",
        "assert npString(17) == \"(17)\"\n"
      ]
    },
    {
      "cell_type": "markdown",
      "metadata": {
        "id": "ps2s0BudX7A2"
      },
      "source": [
        "# Задача 7\n",
        "Написать функцию, принимающая целое число n, задающее количество кубиков. Функция\n",
        "должна определить, можно ли из данного кол-ва кубиков построить пирамиду, то есть\n",
        "можно ли представить число n как 1^2+2^2+3^2+…+k^2. Если можно, то функция должна\n",
        "вернуть k, иначе строку “It is impossible”. Написать тесты для кода"
      ]
    },
    {
      "cell_type": "code",
      "execution_count": 27,
      "metadata": {
        "id": "3YPjEXxhX_YT"
      },
      "outputs": [],
      "source": [
        "def pyramid(number):\n",
        "    k = 0\n",
        "    s = 0\n",
        "    while s < number:\n",
        "        k += 1\n",
        "        s += k ** 2\n",
        "        if s == number:\n",
        "            return k\n",
        "    return \"It is impossible\"\n",
        "\n",
        "# Тесты\n",
        "assert pyramid(1) == 1\n",
        "assert pyramid(5) == 2\n",
        "assert pyramid(14) == 3\n",
        "assert pyramid(15) == \"It is impossible\"\n"
      ]
    },
    {
      "cell_type": "markdown",
      "metadata": {
        "id": "KeKgmIdAQMEJ"
      },
      "source": [
        "# Задача 8\n",
        "Функция принимает на вход положительное число и определяет является ли оно сбалансированным, т.е. сумма цифр до средних равна сумме цифр после. Средними в случае нечетного числа цифр считать одну цифру, в случае четного - две средних. Написать тесты для кода"
      ]
    },
    {
      "cell_type": "code",
      "execution_count": 28,
      "metadata": {
        "id": "gMAAqtqlQrZt"
      },
      "outputs": [],
      "source": [
        "def isBalanced(n):\n",
        "    string = str(n)\n",
        "    length = len(string)\n",
        "    mid = length // 2\n",
        "    if length % 2 == 0:\n",
        "        left = string[:mid-1]\n",
        "        right = string[mid+1:]\n",
        "    else:\n",
        "        left = string[:mid]\n",
        "        right = string[mid+1:]\n",
        "    return sum(map(int, left)) == sum(map(int, right))\n",
        "\n",
        "# тесты\n",
        "assert isBalanced(12312) == True\n",
        "assert isBalanced(1221) == True\n",
        "assert isBalanced(123) == False\n",
        "assert isBalanced(111) == True \n"
      ]
    }
  ],
  "metadata": {
    "colab": {
      "provenance": []
    },
    "kernelspec": {
      "display_name": "base",
      "language": "python",
      "name": "python3"
    },
    "language_info": {
      "codemirror_mode": {
        "name": "ipython",
        "version": 3
      },
      "file_extension": ".py",
      "mimetype": "text/x-python",
      "name": "python",
      "nbconvert_exporter": "python",
      "pygments_lexer": "ipython3",
      "version": "3.12.7"
    }
  },
  "nbformat": 4,
  "nbformat_minor": 0
}
